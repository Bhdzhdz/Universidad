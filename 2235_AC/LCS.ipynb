{
 "cells": [
  {
   "cell_type": "markdown",
   "metadata": {},
   "source": [
    "# Roles\n",
    "**Lector y Analista:** Bernardo Hernández Hernández\n",
    "\n",
    "**Escritor:** Guillermo Cervantes Lobo\n",
    "\n",
    "**Relator:** Sofía Eurivinci Díaz Gutiérrez\n",
    "\n",
    "**Evaluador:** Ricardo Granja Chávez"
   ]
  },
  {
   "cell_type": "markdown",
   "metadata": {},
   "source": [
    "# Subsecuencia Común Mas Larga\n",
    "\n",
    "Se entiende por subsecuencia a un subconjundo ordenado de los elementos de una secuencia es decir, unsa subsecuencia de una secuencia es el resultado de eliminar algunos (o ninguno) de sus elementos.\n",
    "\n",
    "El problema de la subsecuencia mas larga (Longest Common Subsequence) consite en encontrar la subsecuencia de mayor longitud que es comun a dos subsecuencias diferentes.\n",
    "\n",
    ">Se tienen dos arreglos y se busca guardar en un tercer arreglo que contnega la subsecuencia común mas larga prsente en los dos arreglos origonales.\n",
    "\n",
    "## Ejemplo\n",
    "\n",
    "**Entrada**\n",
    "\n",
    "A C C G G T C G A G T G C G C G G A A G C C G G C C G A A\n",
    "\n",
    "G T C G T T C G G A A T G C C G T T G C T C T G T A A A\n",
    "\n",
    "**Salida**\n",
    "\n",
    "G T C G T C G G A A, G C C G G, C C G A A\n",
    "\n",
    "**Explicación**\n",
    "\n",
    "En negritas se marcan los elementos de la subsecuencia obtenida como respuesta, no es posible obtener una subsecuencia de mayor tamaño, sin embargo es posible que existan mas subsecuencias de igual longitud.\n",
    "\n",
    "A C C G **G T C** G A **G T** G C G **C G G A A G C C G G C C G A A**\n",
    "\n",
    "**G T C G** T **T C G G A A** T **G C C G** T T **G C** T **C** T **G** T A **A A**\n"
   ]
  },
  {
   "cell_type": "markdown",
   "metadata": {},
   "source": [
    "# Solución Propuesta\n",
    "\n",
    "En el libro *INTRODUCTIONS TO ALGORITHMS* Cormen, Thomas H dice lo siguiente:\n",
    "\n",
    ">### Theorem 15.1 (Optimal substructure of an LCS)\n",
    ">\n",
    ">Let $X = (x1, x2,…,xm)$ and $Y = (y1, y2,…,yn)$ be sequences, and let $Z = (z1, z2,…,z3k)$ be any LCS of $X$ and $Y$.\n",
    ">1. If $x_m = y_n$, then $z_k = x_m = y_n$ and $Z_{k-1}$ is an LCS of $X_{m-1}$ and $Y_{n-1}$.\n",
    ">2. If $x_m \\neq y_n$, then $z_k \\neq x_m$ implies that $Z$ is an LCS of $X_{m-1}$ and $Y$.\n",
    ">3. If $x_m \\neq y_n$, then $z_k \\neq y_n$ implies that $Z$ is an LCS of $X$ and $Y_{n-1}$.\n",
    "\n",
    "Analizamos el teroema anterior junto con el problema en cuestión hasta que todo el equipo entendio el problema y como solucionarlo. Usando como base el siguiente código encontrado en la página de Geeks For Geeks para encontrar la longitud de LCS de manera recursiva generamos una solución propia que hace uso de la memorización para obtener una de las subcadenas más largas.\n"
   ]
  },
  {
   "cell_type": "code",
   "execution_count": null,
   "metadata": {},
   "outputs": [],
   "source": [
    "int lcs( char *X, char *Y, int m, int n )  \n",
    "{  \n",
    "    if (m == 0 || n == 0)  \n",
    "        return 0;  \n",
    "    if (X[m-1] == Y[n-1])  \n",
    "        return 1 + lcs(X, Y, m-1, n-1);  \n",
    "    else\n",
    "        return max(lcs(X, Y, m, n-1), lcs(X, Y, m-1, n));  \n",
    "}"
   ]
  },
  {
   "cell_type": "code",
   "execution_count": null,
   "metadata": {},
   "outputs": [],
   "source": []
  },
  {
   "cell_type": "code",
   "execution_count": null,
   "metadata": {},
   "outputs": [],
   "source": [
    "#include <iostream>\n",
    "#include <vector>\n",
    "using namespace std;\n",
    "\n",
    "const int a = 100; // tamaño maximo de X\n",
    "const int b = 100; // tamaño maximo de Y\n",
    "\n",
    "bool visitados[a][b];\n",
    "\n",
    "vector<char> Z[a][b];\n",
    "\n",
    "vector<char> lcs( char X[], char Y[], int m, int n )  \n",
    "{  \n",
    "\tif (visitados[m][n]){ // Ya se resolvio lcs(X, Y, m, n)\n",
    "\t\treturn Z[m][n];\n",
    "\t}\n",
    "    else if (m == 0 || n == 0){\n",
    "\t\tZ[m][n].clear();\n",
    "\t}\n",
    "    else if (X[m-1] == Y[n-1]){\n",
    "\t\tZ[m][n] = lcs(X, Y, m-1, n-1);\n",
    "\t   \tZ[m][n].push_back(X[m-1]);\n",
    "\t}\n",
    "    else {\n",
    "\t\tvector<char> first = lcs(X, Y, m, n-1);\n",
    "\t\tvector<char> second = lcs(X, Y, m-1, n);\n",
    "\n",
    "\t\tif (first.size() > second.size())\n",
    "\t\t\tZ[m][n] = first;\n",
    "\t\telse\n",
    "\t\t\tZ[m][n] = second;\n",
    "\t}\n",
    "\n",
    "\tvisitados[m][n] = true;\n",
    "\treturn Z[m][n];\n",
    "}\n",
    "\n",
    "int main(){\n",
    "\tint m, n;\n",
    "\tcin >> m >> n;\n",
    "\tchar X[m], Y[n];\n",
    "\tfor(int i = 0; i < m; i++)\n",
    "\t\tcin >> X[i];\n",
    "\tfor(int i = 0; i < n; i++)\n",
    "\t\tcin >> Y[i];\n",
    "\t\n",
    "\tvector<char> resp = lcs(X, Y, m, n) ;\n",
    "\n",
    "\tfor(int i = 0 ; i < resp.size(); i++)\n",
    "\t\tcout << resp[i] << ' ';\n",
    "\n",
    "}"
   ]
  }
 ],
 "metadata": {
  "kernelspec": {
   "display_name": "C++11",
   "language": "C++11",
   "name": "xcpp11"
  },
  "language_info": {
   "codemirror_mode": "text/x-c++src",
   "file_extension": ".cpp",
   "mimetype": "text/x-c++src",
   "name": "c++",
   "version": "11"
  }
 },
 "nbformat": 4,
 "nbformat_minor": 4
}
