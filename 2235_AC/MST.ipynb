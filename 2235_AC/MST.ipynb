{
 "cells": [
  {
   "cell_type": "markdown",
   "metadata": {},
   "source": [
    "# Minimum Spanning Tree\n",
    "\n",
    "Un árbol de expansión es un árbol formado por algunas aristas de un grafo conexo $G$ tal que contiene a todos los vértices de $G$. Es posible que un mismo grafo tenga distintos árboles de expansión.\n",
    "\n",
    "Un árbol de expansión mínima o Minimum Spanning Tree (MST) es el árbol de expansión con menor peso en un grafo ponderado."
   ]
  },
  {
   "cell_type": "markdown",
   "metadata": {},
   "source": [
    "## Algoritmo de Kruskal\n",
    "\n",
    "Es un algoritmo voraz (greedy),"
   ]
  }
 ],
 "metadata": {
  "kernelspec": {
   "display_name": "Python 3",
   "language": "python",
   "name": "python3"
  },
  "language_info": {
   "codemirror_mode": {
    "name": "ipython",
    "version": 3
   },
   "file_extension": ".py",
   "mimetype": "text/x-python",
   "name": "python",
   "nbconvert_exporter": "python",
   "pygments_lexer": "ipython3",
   "version": "3.8.1"
  }
 },
 "nbformat": 4,
 "nbformat_minor": 4
}
